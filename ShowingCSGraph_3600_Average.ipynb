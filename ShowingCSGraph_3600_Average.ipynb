{
 "cells": [
  {
   "cell_type": "code",
   "execution_count": 6,
   "metadata": {
    "scrolled": false
   },
   "outputs": [
    {
     "data": {
      "image/png": "[encoded data removed]",
      "text/plain": [
       "<Figure size 432x288 with 1 Axes>"
      ]
     },
     "metadata": {
      "needs_background": "light"
     },
     "output_type": "display_data"
    },
    {
     "name": "stdout",
     "output_type": "stream",
     "text": [
      "Showing C(s) Average graph is completed.\n"
     ]
    }
   ],
   "source": [
    "#evaluation-s3600(間隔3600ステップでのC(s)計算)のcsvファイルからC(s)の時間変化の平均値のグラフを出力するプログラム\n",
    "\n",
    "import pandas as pd\n",
    "import matplotlib.pyplot as plt\n",
    "import pathlib\n",
    "\n",
    "#設定\n",
    "file_count = 10;\n",
    "agent_type = \"normal\"\n",
    "#agent_type = \"PDALearning\"\n",
    "#agent_type = \"Communicating\"\n",
    "#agent_type = \"PlannedStopping\"\n",
    "#agent_type = \"Homing\"\n",
    "#agent_type = \"Pausing\"\n",
    "#target_type = \"0-Random\"\n",
    "#target_type = \"1-Greedy\"\n",
    "#target_type = \"2-Interval\"\n",
    "#target_type = \"3-BNPS\"\n",
    "#target_type = \"4-AMTDS-LD\"\n",
    "target_type = \"5-AMTDS-ESC\"\n",
    "#target_type = \"5-AMTDS-ESC\"\n",
    "#target_type = \"5-EpsilonG\"\n",
    "#target_type = \"6-EpsilonB\"\n",
    "#target_type = \"7-IntervalG\"\n",
    "\n",
    "\n",
    "epsilon = \"0.10\"\n",
    "\n",
    "date = \"03-09 15-39-22 robots-number=20\"\n",
    "\n",
    "for i in range(1, file_count+1):\n",
    "    #print(\"./log/LTest/\" + agent_type + \"/Office/\" + target_type + \"/\" + date + \"_\" + str(i) + \"/evaluation-s3600.csv\")\n",
    "    df = pd.read_csv(\"./log/LTest/\" + agent_type + \"/Office/\" + target_type + \"/\" + date + \"_\" + str(i) + \"/evaluation-s3600.csv\", names=['time', 'ds', 'maxLitteerAmount', 'cs'], header=None)\n",
    "    if(i == 1):\n",
    "        df_sum = df\n",
    "    else:\n",
    "        df_sum += df\n",
    "        \n",
    "#平均値計算\n",
    "ave_df = df_sum / file_count\n",
    "\n",
    "#プロット\n",
    "if agent_type == \"normal\":\n",
    "    plt.plot(ave_df['time'], ave_df['cs'], color=\"red\", label=\"AMTDS\")\n",
    "elif agent_type == \"Communicating\":\n",
    "    plt.plot(ave_df['time'], ave_df['cs'], color=\"red\", label=\"AMTDS/EDC\")\n",
    "elif agent_type == \"PlannedStopping\":\n",
    "    plt.plot(ave_df['time'], ave_df['cs'], color=\"red\", label=\"AMTDS/THE\")\n",
    "elif agent_type == \"Homing\":\n",
    "    plt.plot(ave_df['time'], ave_df['cs'], color=\"red\", label=\"Homing\")\n",
    "elif agent_type == \"Pausing\":\n",
    "    plt.plot(ave_df['time'], ave_df['cs'], color=\"red\", label=\"Pausing\")\n",
    "elif target_type == \"0-Random\":\n",
    "    plt.plot(ave_df['time'], ave_df['cs'], color=\"red\", label=\"Random\")\n",
    "elif target_type == \"1-Greedy\":\n",
    "    plt.plot(ave_df['time'], ave_df['cs'], color=\"red\", label=\"Greedy\")\n",
    "elif target_type == \"2-Interval\":\n",
    "    plt.plot(ave_df['time'], ave_df['cs'], color=\"red\", label=\"Interval\")\n",
    "elif target_type == \"3-BNPS\":\n",
    "    plt.plot(ave_df['time'], ave_df['cs'], color=\"red\", label=\"BNPS\")\n",
    "elif target_type == \"4-AMTDS-LD\":\n",
    "    plt.plot(ave_df['time'], ave_df['cs'], color=\"red\", label=\"AMTDS/LD\")\n",
    "elif target_type == \"5-AMTDS-ESC\":\n",
    "    plt.plot(ave_df['time'], ave_df['cs'], color=\"red\", label=\"AMTDS/ESC\")\n",
    "elif target_type == \"5-EpsilonG\": \n",
    "    plt.plot(ave_df['time'], ave_df['cs'], color=\"red\", label=\"Greedy : \" + epsilon)  \n",
    "elif target_type == \"6-EpsilonB\": \n",
    "    plt.plot(ave_df['time'], ave_df['cs'], color=\"red\", label=\"BNPS : \" + epsilon)  \n",
    "elif target_type == \"7-IntervalG\":\n",
    "    plt.plot(ave_df['time'], ave_df['cs'], color=\"red\", label=\"IandG\")\n",
    "    \n",
    "#平均値をcsvファイルとして出力\n",
    "p_log_dir = pathlib.Path(\"./log/LTest/\" + agent_type + \"/Office/\" + target_type + \"/\" + date)\n",
    "if not p_log_dir.exists():\n",
    "    p_log_dir.mkdir(parents=True)\n",
    "ave_df.to_csv(str(p_log_dir) + \"/\" + \"evalusation-s3600_ave.csv\", index=False)\n",
    "\n",
    "#ラベルの追加\n",
    "plt.xlabel('Time(steps)')\n",
    "plt.ylabel('Energy Consumption C(s)')\n",
    "\n",
    "#表示範囲の指定\n",
    "plt.xlim(0, 3000000)\n",
    "#plt.ylim(0, 4000000)\n",
    "\n",
    "#凡例の追加\n",
    "plt.legend()\n",
    "\n",
    "#指数表記から普通の表記に変換\n",
    "plt.ticklabel_format(style='plain',axis='x')\n",
    "plt.ticklabel_format(style='plain',axis='y')\n",
    "\n",
    "#フォルダがない場合は，作成\n",
    "p_dir = pathlib.Path(\"./result/cs_graph_ave/LTest/\" + target_type)\n",
    "if not p_dir.exists():\n",
    "    p_dir.mkdir(parents=True)\n",
    "    \n",
    "#グラフの保存\n",
    "if target_type == \"5-EpsilonG\" or target_type == \"6-EpsilonB\":\n",
    "    plt.savefig('./result/cs_graph_ave/LTest/' + target_type + '/' + 'cs_graph_3600_ave_' + str(file_count) + '_' + date + \"_\" + epsilon + '.png'\n",
    "            , bbox_inches='tight')\n",
    "\n",
    "else:\n",
    "    plt.savefig('./result/cs_graph_ave/LTest/' + target_type + '/' + 'cs_graph_3600_ave_' + str(file_count) + '_' + date + '.png'\n",
    "            , bbox_inches='tight')\n",
    "\n",
    "#グラフの表示\n",
    "plt.show()\n",
    "\n",
    "print(\"Showing C(s) Average graph is completed.\")"
   ]
  }
 ],
 "metadata": {
  "kernelspec": {
   "display_name": "Python 3 (ipykernel)",
   "language": "python",
   "name": "python3"
  },
  "language_info": {
   "codemirror_mode": {
    "name": "ipython",
    "version": 3
   },
   "file_extension": ".py",
   "mimetype": "text/x-python",
   "name": "python",
   "nbconvert_exporter": "python",
   "pygments_lexer": "ipython3",
   "version": "3.9.7"
  }
 },
 "nbformat": 4,
 "nbformat_minor": 2
}

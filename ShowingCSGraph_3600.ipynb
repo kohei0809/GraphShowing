{
 "cells": [
  {
   "cell_type": "code",
   "execution_count": null,
   "metadata": {},
   "outputs": [],
   "source": [
    "#evaluation-s3600(間隔3600ステップでのD(s)計算)のcsvファイルからC(s)の時間変化のグラフを出力するプログラム\n",
    "import pandas as pd\n",
    "import matplotlib.pyplot as plt\n",
    "import pathlib\n",
    "\n",
    "agent_type = \"PDALearning\"\n",
    "target_type = \"0-Random\"\n",
    "#target_type = \"1-Greedy\"\n",
    "date = \"12-15 05-00-02 robots-number=20\"\n",
    "#date = \"12-05 20-12-48 robots-number=20\"\n",
    "print(\"aaa\")\n",
    "\n",
    "file_count = 1\n",
    "\n",
    "for i in range(1, file_count+1):\n",
    "    df = pd.read_csv(\"./log/RTest/\" + agent_type + \"/Office/\" + target_type + \"/\" + date + \"_\" + str(i) + \"/evaluation-s3600.csv\", names=['time', 'ds', 'maxLitteerAmount', 'es'], header=None)\n",
    "plt.plot(df['time'], df['es'], color=\"black\", label=\"LD\")\n",
    "\n",
    "#ラベルの追加\n",
    "plt.xlabel('Time(ticks)')\n",
    "plt.ylabel('Energy Consumption C(s)')\n",
    "\n",
    "#表示範囲の指定\n",
    "plt.xlim(0, 1000000)\n",
    "#plt.ylim(0, 4500000)\n",
    "\n",
    "#凡例の追加\n",
    "#plt.legend()\n",
    "\n",
    "#指数表記から普通の表記に変換\n",
    "plt.ticklabel_format(style='plain',axis='x')\n",
    "plt.ticklabel_format(style='plain',axis='y')\n",
    "\n",
    "#フォルダがない場合は、作成\n",
    "p_dir = pathlib.Path(\"./result/cs_graph\")\n",
    "if not p_dir.exists():\n",
    "    p_dir.mkdir(parents=True)\n",
    "\n",
    "#グラフの保存\n",
    "plt.savefig('./result/cs_graph/' + 'cs_graph_3600_' + date + '.jpg')\n",
    "\n",
    "#グラフの表示\n",
    "plt.show()\n",
    "\n",
    "print(\"Showing C(s) graph is completed.\")"
   ]
  }
 ],
 "metadata": {
  "language_info": {
   "name": "plaintext"
  },
  "orig_nbformat": 4
 },
 "nbformat": 4,
 "nbformat_minor": 2
}

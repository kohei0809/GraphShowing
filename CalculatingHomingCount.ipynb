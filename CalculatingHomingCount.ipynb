{
 "cells": [
  {
   "cell_type": "code",
   "execution_count": 22,
   "metadata": {},
   "outputs": [
    {
     "name": "stdout",
     "output_type": "stream",
     "text": [
      "291.405\n"
     ]
    }
   ],
   "source": [
    "#Homingの回数の平均を出力するプログラム\n",
    "\n",
    "import pandas as pd\n",
    "\n",
    "#設定\n",
    "file_count = 10\n",
    "robots_num = 20\n",
    "#agent_type = \"Homing\"\n",
    "#agent_type = \"HomingAndPausing\"\n",
    "agent_type = \"TimeChange\"\n",
    "target_type = \"5-AMTDS-ESC\"\n",
    "date = \"03-18 14-33-43 robots-number=20\"\n",
    "#date = \"03-12 21-39-23 robots-number=20\"\n",
    "counter = 0\n",
    "time = 3000000\n",
    "\n",
    "for i in range(1, file_count+1):\n",
    "    for j in range(robots_num):\n",
    "        df = pd.read_csv(\"./log/LTest/\" + agent_type + \"/Office/\" + target_type + \"/\" + date + \"_\" + str(i) + \"/Agent\" + str(j) + \"/Return.csv\", names=['time', 'battery', 'x', 'y', 'flag'], header=None)\n",
    "        counter += df[df['time'] <= time].count()['time']\n",
    "        \n",
    "#平均値計算\n",
    "average = counter / (file_count*robots_num)\n",
    "\n",
    "print(average)\n"
   ]
  },
  {
   "cell_type": "code",
   "execution_count": null,
   "metadata": {},
   "outputs": [],
   "source": []
  },
  {
   "cell_type": "code",
   "execution_count": null,
   "metadata": {},
   "outputs": [],
   "source": []
  }
 ],
 "metadata": {
  "kernelspec": {
   "display_name": "Python 3 (ipykernel)",
   "language": "python",
   "name": "python3"
  },
  "language_info": {
   "codemirror_mode": {
    "name": "ipython",
    "version": 3
   },
   "file_extension": ".py",
   "mimetype": "text/x-python",
   "name": "python",
   "nbconvert_exporter": "python",
   "pygments_lexer": "ipython3",
   "version": "3.9.7"
  }
 },
 "nbformat": 4,
 "nbformat_minor": 2
}

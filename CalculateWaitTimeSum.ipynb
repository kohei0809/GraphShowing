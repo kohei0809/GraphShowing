{
 "cells": [
  {
   "cell_type": "code",
   "execution_count": 4,
   "metadata": {},
   "outputs": [
    {
     "name": "stdout",
     "output_type": "stream",
     "text": [
      "Agent0:228000.0\n",
      "Agent1:586400.0\n",
      "Agent2:643800.0\n",
      "Agent3:538500.0\n",
      "Agent4:587700.0\n",
      "Agent5:339800.0\n",
      "Agent6:712300.0\n",
      "Agent7:393900.0\n",
      "Agent8:416100.0\n",
      "Agent9:636500.0\n",
      "Agent10:395500.0\n",
      "Agent11:696500.0\n",
      "Agent12:611600.0\n",
      "Agent13:343800.0\n",
      "Agent14:632700.0\n",
      "Agent15:747400.0\n",
      "Agent16:357500.0\n",
      "Agent17:465500.0\n",
      "Agent18:540000.0\n",
      "Agent19:496000.0\n"
     ]
    }
   ],
   "source": [
    "#総待機時間を出力するプログラム\n",
    "\n",
    "import pandas as pd\n",
    "import os\n",
    "\n",
    "#設定\n",
    "robots_num = 20\n",
    "agent_type = \"TimeChange_Learning\"\n",
    "target_type = \"5-AMTDS-ESC\"\n",
    "date = \"05-11 16-35-40 robots-number=20_1\"\n",
    "before_time = 3000000\n",
    "after_time = 4000000\n",
    "\n",
    "for i in range(robots_num):\n",
    "    df = pd.read_csv(\"../../../../Volumes/ExternalDisk1/Patrolling/log/TTest/\" + agent_type + \"/Office/\" + target_type + \"/\" + date + \"/Agent\" + str(i) + \"/wait.csv\", names=['time', 'battery', 'probability', 'waitTime'], header=None)\n",
    "    before_count = df[df['time'] < before_time].sum()['waitTime']\n",
    "    after_count = df[df['time'] <= after_time].sum()['waitTime']\n",
    "    print( \"Agent\" + str(i) + \":\" + str(after_count - before_count))\n"
   ]
  },
  {
   "cell_type": "code",
   "execution_count": null,
   "metadata": {},
   "outputs": [],
   "source": []
  }
 ],
 "metadata": {
  "kernelspec": {
   "display_name": "Python 3 (ipykernel)",
   "language": "python",
   "name": "python3"
  },
  "language_info": {
   "codemirror_mode": {
    "name": "ipython",
    "version": 3
   },
   "file_extension": ".py",
   "mimetype": "text/x-python",
   "name": "python",
   "nbconvert_exporter": "python",
   "pygments_lexer": "ipython3",
   "version": "3.9.7"
  }
 },
 "nbformat": 4,
 "nbformat_minor": 2
}

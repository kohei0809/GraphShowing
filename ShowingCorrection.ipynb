{
 "cells": [
  {
   "cell_type": "code",
   "execution_count": 5,
   "metadata": {
    "scrolled": true
   },
   "outputs": [
    {
     "name": "stdout",
     "output_type": "stream",
     "text": [
      "Agent0:1.0215364844315036\n",
      "Agent1:1.0167261168522144\n",
      "Agent2:19.437629376154295\n",
      "Agent3:19.38080474534284\n",
      "Agent4:0.8232938557722855\n",
      "Agent5:4.907744597439901\n",
      "Agent6:16.34127441478839\n",
      "Agent7:0.7748837144150295\n",
      "Agent8:16.46472360467242\n",
      "Agent9:15.394457372131594\n",
      "Agent10:16.994030522409716\n",
      "Agent11:3.2366027235665635\n",
      "Agent12:4.273281593051373\n",
      "Agent13:21.701138248761545\n",
      "Agent14:0.8040081732033519\n",
      "Agent15:3.3573242267731453\n",
      "Agent16:1.010437737604353\n",
      "Agent17:15.26681275833926\n",
      "Agent18:0.7707921956683688\n",
      "Agent19:18.811100429905437\n"
     ]
    }
   ],
   "source": [
    "#補正係数を出力するプログラム\n",
    "\n",
    "import pandas as pd\n",
    "import os\n",
    "\n",
    "#設定\n",
    "robots_num = 20\n",
    "#agent_type = \"Onebyone\"\n",
    "agent_type = \"TimeChange\"\n",
    "target_type = \"5-AMTDS-ESC\"\n",
    "date = \"09-14 16-37-55 robots-number=20_1\"\n",
    "counter = 0\n",
    "time = 5000000\n",
    "\n",
    "for i in range(robots_num):\n",
    "    df = pd.read_csv(\"../../../../Volumes/ExternalDisk1/Patrolling/log/TTest/\" + agent_type + \"/Office/\" + target_type + \"/\" + date + \"/Agent\" + str(i) + \"/Correction.csv\", names=['time', 'before', 'after', 'real', 'req'], header=None)\n",
    "    count = df[df['time'] <= time].tail(1)['after'].item()\n",
    "    print( \"Agent\" + str(i) + \":\" + str(count))"
   ]
  },
  {
   "cell_type": "code",
   "execution_count": null,
   "metadata": {},
   "outputs": [],
   "source": []
  },
  {
   "cell_type": "code",
   "execution_count": null,
   "metadata": {},
   "outputs": [],
   "source": []
  }
 ],
 "metadata": {
  "kernelspec": {
   "display_name": "Python 3 (ipykernel)",
   "language": "python",
   "name": "python3"
  },
  "language_info": {
   "codemirror_mode": {
    "name": "ipython",
    "version": 3
   },
   "file_extension": ".py",
   "mimetype": "text/x-python",
   "name": "python",
   "nbconvert_exporter": "python",
   "pygments_lexer": "ipython3",
   "version": "3.9.7"
  }
 },
 "nbformat": 4,
 "nbformat_minor": 2
}

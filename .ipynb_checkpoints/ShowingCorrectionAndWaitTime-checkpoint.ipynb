{
 "cells": [
  {
   "cell_type": "code",
   "execution_count": 40,
   "metadata": {
    "scrolled": true
   },
   "outputs": [
    {
     "data": {
      "image/png": "[encoded data removed]",
      "text/plain": [
       "<Figure size 432x288 with 1 Axes>"
      ]
     },
     "metadata": {
      "needs_background": "light"
     },
     "output_type": "display_data"
    }
   ],
   "source": [
    "#補正係数と待機時間の散布図を出力するプログラム\n",
    "import pandas as pd\n",
    "import os\n",
    "import matplotlib.pyplot as plt\n",
    "import pathlib\n",
    "import numpy as np\n",
    "\n",
    "#設定\n",
    "robots_num = 20\n",
    "#agent_type = \"OnebyOne\"\n",
    "agent_type = \"TimeChange\"\n",
    "target_type = \"5-AMTDS-ESC\"\n",
    "#date = \"05-12 05-21-18 robots-number=20_1\"\n",
    "#date = \"07-13 17-06-04 robots-number=20_2\"\n",
    "date = \"09-14 16-37-55 robots-number=20_1\"\n",
    "\n",
    "counter = 0\n",
    "time = 3500000\n",
    "before_time = 2500000\n",
    "after_time = 3500000\n",
    "x = []\n",
    "y = []\n",
    "#stop_agent_list = [1, 4, 6, 7, 11, 17, 18]\n",
    "#stop_agent_list = [0, 1, 3, 7, 11, 12, 16]\n",
    "stop_agent_list = []\n",
    "stop_number = len(stop_agent_list)\n",
    "sx = []\n",
    "sy = []\n",
    "n = 0\n",
    "state = \"1\"\n",
    "#state = \"after\"\n",
    "\n",
    "env = \"Office\"\n",
    "\n",
    "for i in range(robots_num):\n",
    "    df = pd.read_csv(\"../../../../Volumes/ExternalDisk1/Patrolling/log/TTest/\" + agent_type + \"/\" + env + \"/\" + target_type + \"/\" + date + \"/Agent\" + str(i) + \"/Correction.csv\", names=['time', 'before', 'after', 'real', 'req'], header=None)\n",
    "    count = df[df['time'] <= time].tail(1)['after']\n",
    "    x.append(count)\n",
    "    \n",
    "    df = pd.read_csv(\"../../../../Volumes/ExternalDisk1/Patrolling/log/TTest/\" + agent_type + \"/\" + env + \"/\" + target_type + \"/\" + date + \"/Agent\" + str(i) + \"/wait.csv\", names=['time', 'battery', 'probability', 'waitTime'], header=None)\n",
    "    before_count = df[df['time'] < before_time].sum()['waitTime'].item()\n",
    "    #print(df[df['time'] < before_time].tail(1)['time'] + df[df['time'] < before_time].tail(1)['waitTime'].item())\n",
    "    if (df[df['time'] < before_time].tail(1)['time'] + df[df['time'] < before_time].tail(1)['waitTime']).item() > before_time:\n",
    "        before_count -= df[df['time'] < before_time].tail(1)['waitTime'].item()\n",
    "        before_count += (before_time - df[df['time'] < before_time].tail(1)['time'].item())\n",
    "        #print(\"before\" + str(before_count.item()))\n",
    "    \n",
    "    after_count = df[df['time'] <= after_time].sum()['waitTime'].item()\n",
    "    if (df[df['time'] <= after_time].tail(1)['time'] + df[df['time'] < after_time].tail(1)['waitTime']).item() > after_time:\n",
    "        after_count -= df[df['time'] <= after_time].tail(1)['waitTime'].item()\n",
    "        after_count += (after_time - df[df['time'] <= after_time].tail(1)['time'].item())\n",
    "\n",
    "    waitTime = after_count - before_count;\n",
    "    if waitTime > 1000000:\n",
    "        waitTime = 1000000\n",
    "        \n",
    "    y.append(waitTime)\n",
    "    \n",
    "    if n < stop_number:\n",
    "        if i == stop_agent_list[n]:\n",
    "            sx.append(x[i])\n",
    "            sy.append(y[i])\n",
    "            n = n+1\n",
    "            \n",
    "#print(y)\n",
    "\n",
    "plt.scatter(x, y, linewidths=0.5)\n",
    "plt.scatter(sx, sy, linewidth=0.5, color=\"red\")\n",
    "\n",
    "#ラベルの追加\n",
    "plt.xlabel('$K^i$')\n",
    "plt.ylabel('Total pausing time (step) ')\n",
    "\n",
    "#表示範囲の指定\n",
    "plt.xlim(0, 25)\n",
    "plt.ylim(0, 1000000)\n",
    "\n",
    "#plt.xticks(np.arange(0, 5, 1))\n",
    "\n",
    "#指数表記から普通の表記に変換\n",
    "plt.ticklabel_format(style='plain',axis='y')\n",
    "\n",
    "#フォルダがない場合は、作成\n",
    "p_dir = pathlib.Path(\"../../../../Volumes/ExternalDisk1/Patrolling/result/correction_sccater\")\n",
    "if not p_dir.exists():\n",
    "    p_dir.mkdir(parents=True)\n",
    "\n",
    "#グラフの保存\n",
    "plt.savefig(str(p_dir) + '/' + 'CorrectionScatter_' + state + '_' + date + '.png', bbox_inches=\"tight\")\n",
    "\n",
    "plt.show()"
   ]
  },
  {
   "cell_type": "code",
   "execution_count": null,
   "metadata": {},
   "outputs": [],
   "source": []
  }
 ],
 "metadata": {
  "kernelspec": {
   "display_name": "Python 3 (ipykernel)",
   "language": "python",
   "name": "python3"
  },
  "language_info": {
   "codemirror_mode": {
    "name": "ipython",
    "version": 3
   },
   "file_extension": ".py",
   "mimetype": "text/x-python",
   "name": "python",
   "nbconvert_exporter": "python",
   "pygments_lexer": "ipython3",
   "version": "3.9.7"
  },
  "vscode": {
   "interpreter": {
    "hash": "31f2aee4e71d21fbe5cf8b01ff0e069b9275f58929596ceb00d14d90e3e16cd6"
   }
  }
 },
 "nbformat": 4,
 "nbformat_minor": 2
}

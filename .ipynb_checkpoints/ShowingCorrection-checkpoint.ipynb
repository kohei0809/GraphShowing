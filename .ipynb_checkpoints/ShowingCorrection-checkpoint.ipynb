{
 "cells": [
  {
   "cell_type": "code",
   "execution_count": 4,
   "metadata": {
    "scrolled": true
   },
   "outputs": [
    {
     "name": "stdout",
     "output_type": "stream",
     "text": [
      "Agent0:0.62709151802455\n",
      "Agent1:0.5490778197967625\n",
      "Agent2:13.3475160653877\n",
      "Agent3:12.010444202442612\n",
      "Agent4:0.4711930775347388\n",
      "Agent5:0.582491183189205\n",
      "Agent6:9.861600264562666\n",
      "Agent7:0.5656295093142621\n",
      "Agent8:8.762655076981492\n",
      "Agent9:9.776127964956554\n",
      "Agent10:10.065414876540927\n",
      "Agent11:0.7821603458695628\n",
      "Agent12:0.6985285419808684\n",
      "Agent13:10.935920175081314\n",
      "Agent14:0.6052928070787934\n",
      "Agent15:0.9093991121542626\n",
      "Agent16:0.8685452762679682\n",
      "Agent17:8.88000515476843\n",
      "Agent18:0.581833547276479\n",
      "Agent19:8.8627460802737\n"
     ]
    }
   ],
   "source": [
    "#補正係数を出力するプログラム\n",
    "\n",
    "import pandas as pd\n",
    "import os\n",
    "\n",
    "#設定\n",
    "robots_num = 20\n",
    "#agent_type = \"Onebyone\"\n",
    "agent_type = \"TimeChange\"\n",
    "target_type = \"5-AMTDS-ESC\"\n",
    "date = \"09-14 16-37-55 robots-number=20_1\"\n",
    "counter = 0\n",
    "time = 5000000\n",
    "\n",
    "for i in range(robots_num):\n",
    "    df = pd.read_csv(\"../../../../Volumes/ExternalDisk1/Patrolling/log/TTest/\" + agent_type + \"/Office/\" + target_type + \"/\" + date + \"/Agent\" + str(i) + \"/Correction.csv\", names=['time', 'before', 'after', 'real', 'req'], header=None)\n",
    "    count = df[df['time'] <= time].tail(1)['after'].item()\n",
    "    print( \"Agent\" + str(i) + \":\" + str(count))"
   ]
  },
  {
   "cell_type": "code",
   "execution_count": null,
   "metadata": {},
   "outputs": [],
   "source": []
  },
  {
   "cell_type": "code",
   "execution_count": null,
   "metadata": {},
   "outputs": [],
   "source": []
  }
 ],
 "metadata": {
  "kernelspec": {
   "display_name": "Python 3 (ipykernel)",
   "language": "python",
   "name": "python3"
  },
  "language_info": {
   "codemirror_mode": {
    "name": "ipython",
    "version": 3
   },
   "file_extension": ".py",
   "mimetype": "text/x-python",
   "name": "python",
   "nbconvert_exporter": "python",
   "pygments_lexer": "ipython3",
   "version": "3.9.7"
  }
 },
 "nbformat": 4,
 "nbformat_minor": 2
}

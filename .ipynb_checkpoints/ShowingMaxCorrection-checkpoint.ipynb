{
 "cells": [
  {
   "cell_type": "code",
   "execution_count": 20,
   "metadata": {},
   "outputs": [
    {
     "name": "stdout",
     "output_type": "stream",
     "text": [
      "Agent0:0.683662585123072\n",
      "Agent1:0.468767156410074\n",
      "Agent2:0.0\n",
      "Agent3:0.6795939654047652\n",
      "Agent4:3.619851283823592\n",
      "Agent5:3.0482001947575337\n",
      "Agent6:0.8765502442731358\n",
      "Agent7:0.0\n",
      "Agent8:5.034085171273836\n",
      "Agent9:0.7179991866162458\n",
      "Agent10:5.017405381865852\n",
      "Agent11:1.085376142222011\n",
      "Agent12:1.0350116762616557\n",
      "Agent13:0.8443933843099952\n",
      "Agent14:0.9643801890375218\n",
      "Agent15:0.5712948307077217\n",
      "Agent16:0.0\n",
      "Agent17:0.8377270884850428\n",
      "Agent18:0.9391044404325004\n",
      "Agent19:1.8708866852819157\n"
     ]
    }
   ],
   "source": [
    "#補正係数の上限値を出力するプログラム\n",
    "\n",
    "import pandas as pd\n",
    "\n",
    "#設定\n",
    "robots_num = 20\n",
    "agent_type = \"CycleLearning\"\n",
    "target_type = \"5-AMTDS-ESC\"\n",
    "date = \"09-11 01-27-53 robots-number=20_1\"\n",
    "time = 7000000\n",
    "\n",
    "for i in range(robots_num):\n",
    "    df = pd.read_csv(\"../../../../Volumes/ExternalDisk1/Patrolling/log/UTest/\" + agent_type + \"/Office/\" + target_type + \"/\" + date + \"/Agent\" + str(i) + \"/correction.csv\", names=['time', 'before', 'after', 'real', 'req', 'sum', 'max'], header=None)\n",
    "    count = df[df['time'] <= time].tail(1)['max'].item()\n",
    "    print( \"Agent\" + str(i) + \":\" + str(count))"
   ]
  },
  {
   "cell_type": "code",
   "execution_count": null,
   "metadata": {},
   "outputs": [],
   "source": []
  }
 ],
 "metadata": {
  "kernelspec": {
   "display_name": "Python 3 (ipykernel)",
   "language": "python",
   "name": "python3"
  },
  "language_info": {
   "codemirror_mode": {
    "name": "ipython",
    "version": 3
   },
   "file_extension": ".py",
   "mimetype": "text/x-python",
   "name": "python",
   "nbconvert_exporter": "python",
   "pygments_lexer": "ipython3",
   "version": "3.9.7"
  },
  "vscode": {
   "interpreter": {
    "hash": "31f2aee4e71d21fbe5cf8b01ff0e069b9275f58929596ceb00d14d90e3e16cd6"
   }
  }
 },
 "nbformat": 4,
 "nbformat_minor": 2
}

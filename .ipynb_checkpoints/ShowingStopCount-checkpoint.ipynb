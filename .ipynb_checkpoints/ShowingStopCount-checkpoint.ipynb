{
 "cells": [
  {
   "cell_type": "code",
   "execution_count": 18,
   "metadata": {
    "scrolled": true
   },
   "outputs": [
    {
     "name": "stdout",
     "output_type": "stream",
     "text": [
      "Thread1:12\n",
      "Thread2:12\n",
      "Thread3:12\n",
      "Thread4:12\n",
      "Thread5:12\n",
      "Thread6:12\n",
      "Thread7:12\n",
      "Thread8:12\n",
      "Thread9:12\n",
      "Thread10:12\n",
      "Thread11:12\n",
      "Thread12:13\n",
      "Thread13:12\n",
      "Thread14:12\n",
      "Thread15:12\n",
      "Thread16:13\n",
      "Thread17:13\n",
      "Thread18:13\n",
      "Thread19:12\n",
      "Thread20:13\n",
      "Thread21:12\n",
      "Thread22:12\n",
      "Thread23:12\n",
      "Thread24:12\n",
      "Thread25:12\n",
      "12stop : 20\n",
      "13stop : 5\n"
     ]
    }
   ],
   "source": [
    "#停止台数を出力するプログラム\n",
    "\n",
    "import pandas as pd\n",
    "\n",
    "#設定\n",
    "agent_type = \"Onebyone\"\n",
    "target_type = \"5-AMTDS-ESC\"\n",
    "#date = \"07-09 22-01-43 robots-number=20_\"\n",
    "#date = \"07-11 00-03-00 robots-number=20_\"\n",
    "#date = \"07-15 15-35-53 robots-number=20_\"\n",
    "#date = \"07-18 14-15-30 robots-number=20_\"\n",
    "date = \"10-14 05-09-27 robots-number=20_\"\n",
    "file_count = 50\n",
    "robot_count = 20\n",
    "stop_count = [0, 0, 0, 0, 0, 0, 0, 0, 0, 0, 0, 0, 0, 0, 0, 0, 0, 0, 0, 0, 0]\n",
    "env = \"Complex\"\n",
    "\n",
    "for i in range(1, file_count+1):\n",
    "    df = pd.read_csv(\"../../../../Volumes/ExternalDisk1/Patrolling/log/OTest/\" + agent_type + \"/\" + env + \"/\" + target_type + \"/\" + date + str(i) + \"/StopAgents.csv\", names=['time', 'id', 'state', 'K', 'prob'], header=None)\n",
    "    count = len(df)\n",
    "    stop_count[count] = stop_count[count] + 1\n",
    "    print( \"Thread\" + str(i) + \":\" + str(count))\n",
    "\n",
    "for i in range(robot_count+1):\n",
    "    num = stop_count[i]\n",
    "    if num != 0:\n",
    "        print(str(i) + \"stop : \" + str(num)) "
   ]
  },
  {
   "cell_type": "code",
   "execution_count": null,
   "metadata": {},
   "outputs": [],
   "source": []
  },
  {
   "cell_type": "code",
   "execution_count": null,
   "metadata": {},
   "outputs": [],
   "source": []
  }
 ],
 "metadata": {
  "kernelspec": {
   "display_name": "Python 3 (ipykernel)",
   "language": "python",
   "name": "python3"
  },
  "language_info": {
   "codemirror_mode": {
    "name": "ipython",
    "version": 3
   },
   "file_extension": ".py",
   "mimetype": "text/x-python",
   "name": "python",
   "nbconvert_exporter": "python",
   "pygments_lexer": "ipython3",
   "version": "3.9.7"
  }
 },
 "nbformat": 4,
 "nbformat_minor": 2
}

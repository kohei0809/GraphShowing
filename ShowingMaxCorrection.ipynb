{
 "cells": [
  {
   "cell_type": "code",
   "execution_count": 24,
   "metadata": {},
   "outputs": [
    {
     "name": "stdout",
     "output_type": "stream",
     "text": [
      "Agent0:0.0\n",
      "Agent1:1.2036515328019874\n",
      "Agent2:0.0\n",
      "Agent3:0.6685463245561716\n",
      "Agent4:0.0\n",
      "Agent5:1.0\n",
      "Agent6:1.0\n",
      "Agent7:1.21734925241978\n",
      "Agent8:1.0353365515179855\n",
      "Agent9:0.0\n",
      "Agent10:1.4291721532953994\n",
      "Agent11:0.0\n",
      "Agent12:0.0\n",
      "Agent13:0.9636825709429802\n",
      "Agent14:0.8631088643385665\n",
      "Agent15:1.1488091972377217\n",
      "Agent16:0.0\n",
      "Agent17:0.0\n",
      "Agent18:1.0099759287455985\n",
      "Agent19:2.0633238065942376\n"
     ]
    }
   ],
   "source": [
    "#補正係数の上限値を出力するプログラム\n",
    "\n",
    "import pandas as pd\n",
    "\n",
    "#設定\n",
    "robots_num = 20\n",
    "agent_type = \"CycleLearning\"\n",
    "target_type = \"5-AMTDS-ESC\"\n",
    "date = \"09-11 01-27-53 robots-number=20_1\"\n",
    "time = 7000000\n",
    "\n",
    "for i in range(robots_num):\n",
    "    df = pd.read_csv(\"../../../../Volumes/ExternalDisk1/Patrolling/log/UTest/\" + agent_type + \"/Office/\" + target_type + \"/\" + date + \"/Agent\" + str(i) + \"/correction.csv\", names=['time', 'before', 'after', 'real', 'req', 'sum', 'max'], header=None)\n",
    "    count = df[df['time'] <= time].tail(1)['max'].item()\n",
    "    print( \"Agent\" + str(i) + \":\" + str(count))"
   ]
  },
  {
   "cell_type": "code",
   "execution_count": null,
   "metadata": {},
   "outputs": [],
   "source": []
  }
 ],
 "metadata": {
  "kernelspec": {
   "display_name": "Python 3 (ipykernel)",
   "language": "python",
   "name": "python3"
  },
  "language_info": {
   "codemirror_mode": {
    "name": "ipython",
    "version": 3
   },
   "file_extension": ".py",
   "mimetype": "text/x-python",
   "name": "python",
   "nbconvert_exporter": "python",
   "pygments_lexer": "ipython3",
   "version": "3.9.7"
  },
  "vscode": {
   "interpreter": {
    "hash": "31f2aee4e71d21fbe5cf8b01ff0e069b9275f58929596ceb00d14d90e3e16cd6"
   }
  }
 },
 "nbformat": 4,
 "nbformat_minor": 2
}
